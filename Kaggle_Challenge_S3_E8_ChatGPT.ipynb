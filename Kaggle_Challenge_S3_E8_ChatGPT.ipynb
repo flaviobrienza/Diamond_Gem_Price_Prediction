{
 "cells": [
  {
   "attachments": {},
   "cell_type": "markdown",
   "metadata": {},
   "source": [
    "# Kaggle Challenge S3 E8 - ChatGPT to Boost Performance\n",
    "\n",
    "Challenge: https://www.kaggle.com/competitions/playground-series-s3e8/data  \n",
    "\n",
    "Discussion from which I took the hint: https://www.kaggle.com/competitions/playground-series-s3e8/discussion/389472  \n",
    "\n",
    "In this Kaggle challenge I tried to ChatGPT in order to create new features to improve the model's performance."
   ]
  },
  {
   "attachments": {},
   "cell_type": "markdown",
   "metadata": {},
   "source": [
    "# Importing Libraries"
   ]
  },
  {
   "cell_type": "code",
   "execution_count": 1,
   "metadata": {},
   "outputs": [],
   "source": [
    "import pandas as pd\n",
    "import numpy as np\n",
    "import matplotlib\n",
    "import matplotlib.pyplot as plt\n",
    "import seaborn as sns\n",
    "%matplotlib inline\n",
    "\n",
    "sns.set_style(\"darkgrid\")\n",
    "matplotlib.rcParams['font.size'] = 14\n",
    "matplotlib.rcParams['figure.figsize'] = (15, 5)\n",
    "matplotlib.rcParams['figure.facecolor'] = '#00000000'\n",
    "\n",
    "import warnings\n",
    "warnings.simplefilter(action='ignore')\n",
    "\n",
    "import opendatasets as od\n",
    "\n",
    "import os "
   ]
  },
  {
   "attachments": {},
   "cell_type": "markdown",
   "metadata": {},
   "source": [
    "# Importing Data"
   ]
  },
  {
   "cell_type": "code",
   "execution_count": 2,
   "metadata": {},
   "outputs": [],
   "source": [
    "url = './playground-series-s3e8/'\n",
    "\n",
    "train = pd.read_csv(url+'train.csv').drop(columns='id')\n",
    "test = pd.read_csv(url+'test.csv').drop(columns='id')\n",
    "original = pd.read_csv('./gemstone-price-prediction/cubic_zirconia.csv').drop(columns='Unnamed: 0')"
   ]
  },
  {
   "attachments": {},
   "cell_type": "markdown",
   "metadata": {},
   "source": [
    "The original dataset has some missing values in the \"depth\" feature.  \n",
    "By the way, I obtained the best score by leaving them as they are."
   ]
  },
  {
   "attachments": {},
   "cell_type": "markdown",
   "metadata": {},
   "source": [
    "# EDA and Feature Engineering"
   ]
  },
  {
   "attachments": {},
   "cell_type": "markdown",
   "metadata": {},
   "source": [
    "Cut description:  \n",
    "describe the cut quality of the cubic zirconia.   \n",
    "Quality is increasing order Fair, Good, Very Good, Premium, Ideal."
   ]
  },
  {
   "cell_type": "code",
   "execution_count": 3,
   "metadata": {},
   "outputs": [
    {
     "data": {
      "text/plain": [
       "['Fair', 'Good', 'Ideal', 'Premium', 'Very Good']"
      ]
     },
     "execution_count": 3,
     "metadata": {},
     "output_type": "execute_result"
    }
   ],
   "source": [
    "sorted(train.cut.unique())"
   ]
  },
  {
   "cell_type": "code",
   "execution_count": 4,
   "metadata": {},
   "outputs": [
    {
     "data": {
      "text/plain": [
       "True"
      ]
     },
     "execution_count": 4,
     "metadata": {},
     "output_type": "execute_result"
    }
   ],
   "source": [
    "sorted(test.cut.unique()) == sorted(train.cut.unique())"
   ]
  },
  {
   "attachments": {},
   "cell_type": "markdown",
   "metadata": {},
   "source": [
    "Clarity Description:  \n",
    "\n",
    "cubic zirconia Clarity refers to the absence of the Inclusions and Blemishes.   \n",
    "(In order from Best to Worst, FL = flawless, I3= level 3 inclusions) FL, IF, VVS1, VVS2, VS1, VS2, SI1, SI2, I1, I2, I3"
   ]
  },
  {
   "cell_type": "code",
   "execution_count": 5,
   "metadata": {},
   "outputs": [
    {
     "data": {
      "text/plain": [
       "['I1', 'IF', 'SI1', 'SI2', 'VS1', 'VS2', 'VVS1', 'VVS2']"
      ]
     },
     "execution_count": 5,
     "metadata": {},
     "output_type": "execute_result"
    }
   ],
   "source": [
    "sorted(train.clarity.unique())"
   ]
  },
  {
   "cell_type": "code",
   "execution_count": 6,
   "metadata": {},
   "outputs": [
    {
     "data": {
      "text/plain": [
       "True"
      ]
     },
     "execution_count": 6,
     "metadata": {},
     "output_type": "execute_result"
    }
   ],
   "source": [
    "sorted(train.clarity.unique()) == sorted(test.clarity.unique())"
   ]
  },
  {
   "attachments": {},
   "cell_type": "markdown",
   "metadata": {},
   "source": [
    "Color description:  \n",
    "Colour of the cubic zirconia. With D being the best and J the worst."
   ]
  },
  {
   "cell_type": "code",
   "execution_count": 7,
   "metadata": {},
   "outputs": [
    {
     "data": {
      "text/plain": [
       "['D', 'E', 'F', 'G', 'H', 'I', 'J']"
      ]
     },
     "execution_count": 7,
     "metadata": {},
     "output_type": "execute_result"
    }
   ],
   "source": [
    "sorted(train.color.unique())"
   ]
  },
  {
   "cell_type": "code",
   "execution_count": 8,
   "metadata": {},
   "outputs": [
    {
     "data": {
      "text/plain": [
       "True"
      ]
     },
     "execution_count": 8,
     "metadata": {},
     "output_type": "execute_result"
    }
   ],
   "source": [
    "sorted(train.color.unique()) == sorted(test.color.unique())"
   ]
  },
  {
   "attachments": {},
   "cell_type": "markdown",
   "metadata": {},
   "source": [
    "## Feature Engineering Ideas  \n",
    "\n",
    "- Ordinal Encoding of categorical variables \n",
    "- Substituting x,y,z that are 0  \n",
    "\n",
    "Features provided by ChatGPT:  \n",
    "\n",
    "- Carat weight (in carats): The carat weight of a diamond is the most important factor affecting its price. The formula for carat weight is:  \n",
    "\n",
    "Carat weight = (x * y * z) / 200  \n",
    "\n",
    "- Volume (in cubic millimeters): The volume of a diamond can be calculated using its dimensions. The formula for volume is:  \n",
    "\n",
    "Volume = x * y * z  \n",
    "\n",
    "- Total depth percentage (in percentage): The total depth percentage is the depth of the diamond as a percentage of its overall height. The formula for total depth percentage is:  \n",
    "\n",
    "Total depth percentage = (2 * depth) / (x + y)  \n",
    "\n",
    "- Table size percentage (in percentage): The table size percentage is the size of the table facet as a percentage of the diamond's overall width. The formula for table size percentage is:  \n",
    "\n",
    "Table size percentage = (table / ((x + y) / 2)) * 100  \n",
    "\n",
    "- Crown height (in millimeters): The crown height is the height of the diamond's crown above the girdle. The formula for crown height is:  \n",
    "\n",
    "Crown height = depth * (1 - (table / 100))  \n",
    "\n",
    "- Pavilion depth (in millimeters): The pavilion depth is the depth of the diamond's pavilion below the girdle. The formula for pavilion depth is:  \n",
    "\n",
    "Pavilion depth = depth * (1 - (total depth percentage / 100))  \n",
    "\n",
    "- Crown angle (in degrees): The crown angle is the angle between the girdle plane and the plane of the table facet. The formula for crown angle is:  \n",
    "\n",
    "Crown angle = arctan((crown height / 2) / (x + y) / 2) * 2  \n",
    "\n",
    "- Pavilion angle (in degrees): The pavilion angle is the angle between the girdle plane and the pavilion main facet. The formula for pavilion angle is:  \n",
    "\n",
    "Pavilion angle = arctan(pavilion depth / (x + y) / 2) * 2  "
   ]
  },
  {
   "attachments": {},
   "cell_type": "markdown",
   "metadata": {},
   "source": [
    "### x, y, z"
   ]
  },
  {
   "attachments": {},
   "cell_type": "markdown",
   "metadata": {},
   "source": [
    "Substituting values with x, y, z = 0.  \n",
    "\n",
    "Assuming that a diamond has a round shape:\n",
    "\n",
    "x = sqrt((Table/100)^2 / (1 + (tan(arccos(2*(Depth/100)-1)))^2))  \n",
    "\n",
    "y = x / (Table/100) * sqrt(1 / (1 - (Depth/100) + (Depth/100) / (tan(arccos(2*(Depth/100)-1)))^2))  \n",
    "\n",
    "z = Depth / sqrt(1 - (x^2 + y^2) / (Depth/100)^2)  \n",
    "\n",
    "If you have x and y:  \n",
    "\n",
    "z = ((x + y) / 2) * Depth / (x * y)"
   ]
  },
  {
   "cell_type": "code",
   "execution_count": 9,
   "metadata": {},
   "outputs": [
    {
     "data": {
      "text/html": [
       "<div>\n",
       "<style scoped>\n",
       "    .dataframe tbody tr th:only-of-type {\n",
       "        vertical-align: middle;\n",
       "    }\n",
       "\n",
       "    .dataframe tbody tr th {\n",
       "        vertical-align: top;\n",
       "    }\n",
       "\n",
       "    .dataframe thead th {\n",
       "        text-align: right;\n",
       "    }\n",
       "</style>\n",
       "<table border=\"1\" class=\"dataframe\">\n",
       "  <thead>\n",
       "    <tr style=\"text-align: right;\">\n",
       "      <th></th>\n",
       "      <th>carat</th>\n",
       "      <th>cut</th>\n",
       "      <th>color</th>\n",
       "      <th>clarity</th>\n",
       "      <th>depth</th>\n",
       "      <th>table</th>\n",
       "      <th>x</th>\n",
       "      <th>y</th>\n",
       "      <th>z</th>\n",
       "      <th>price</th>\n",
       "    </tr>\n",
       "  </thead>\n",
       "  <tbody>\n",
       "    <tr>\n",
       "      <th>5821</th>\n",
       "      <td>0.71</td>\n",
       "      <td>Good</td>\n",
       "      <td>F</td>\n",
       "      <td>SI2</td>\n",
       "      <td>64.1</td>\n",
       "      <td>60.0</td>\n",
       "      <td>0.00</td>\n",
       "      <td>0.00</td>\n",
       "      <td>0.0</td>\n",
       "      <td>2130</td>\n",
       "    </tr>\n",
       "    <tr>\n",
       "      <th>6034</th>\n",
       "      <td>2.02</td>\n",
       "      <td>Premium</td>\n",
       "      <td>H</td>\n",
       "      <td>VS2</td>\n",
       "      <td>62.7</td>\n",
       "      <td>53.0</td>\n",
       "      <td>8.02</td>\n",
       "      <td>7.95</td>\n",
       "      <td>0.0</td>\n",
       "      <td>18207</td>\n",
       "    </tr>\n",
       "    <tr>\n",
       "      <th>6215</th>\n",
       "      <td>0.71</td>\n",
       "      <td>Good</td>\n",
       "      <td>F</td>\n",
       "      <td>SI2</td>\n",
       "      <td>64.1</td>\n",
       "      <td>60.0</td>\n",
       "      <td>0.00</td>\n",
       "      <td>0.00</td>\n",
       "      <td>0.0</td>\n",
       "      <td>2130</td>\n",
       "    </tr>\n",
       "    <tr>\n",
       "      <th>10827</th>\n",
       "      <td>2.20</td>\n",
       "      <td>Premium</td>\n",
       "      <td>H</td>\n",
       "      <td>SI1</td>\n",
       "      <td>61.2</td>\n",
       "      <td>59.0</td>\n",
       "      <td>8.42</td>\n",
       "      <td>8.37</td>\n",
       "      <td>0.0</td>\n",
       "      <td>17265</td>\n",
       "    </tr>\n",
       "    <tr>\n",
       "      <th>12498</th>\n",
       "      <td>2.18</td>\n",
       "      <td>Premium</td>\n",
       "      <td>H</td>\n",
       "      <td>SI2</td>\n",
       "      <td>59.4</td>\n",
       "      <td>61.0</td>\n",
       "      <td>8.49</td>\n",
       "      <td>8.45</td>\n",
       "      <td>0.0</td>\n",
       "      <td>12631</td>\n",
       "    </tr>\n",
       "    <tr>\n",
       "      <th>12689</th>\n",
       "      <td>1.10</td>\n",
       "      <td>Premium</td>\n",
       "      <td>G</td>\n",
       "      <td>SI2</td>\n",
       "      <td>63.0</td>\n",
       "      <td>59.0</td>\n",
       "      <td>6.50</td>\n",
       "      <td>6.47</td>\n",
       "      <td>0.0</td>\n",
       "      <td>3696</td>\n",
       "    </tr>\n",
       "    <tr>\n",
       "      <th>17506</th>\n",
       "      <td>1.14</td>\n",
       "      <td>Fair</td>\n",
       "      <td>G</td>\n",
       "      <td>VS1</td>\n",
       "      <td>57.5</td>\n",
       "      <td>67.0</td>\n",
       "      <td>0.00</td>\n",
       "      <td>0.00</td>\n",
       "      <td>0.0</td>\n",
       "      <td>6381</td>\n",
       "    </tr>\n",
       "    <tr>\n",
       "      <th>18194</th>\n",
       "      <td>1.01</td>\n",
       "      <td>Premium</td>\n",
       "      <td>H</td>\n",
       "      <td>I1</td>\n",
       "      <td>58.1</td>\n",
       "      <td>59.0</td>\n",
       "      <td>6.66</td>\n",
       "      <td>6.60</td>\n",
       "      <td>0.0</td>\n",
       "      <td>3167</td>\n",
       "    </tr>\n",
       "    <tr>\n",
       "      <th>23758</th>\n",
       "      <td>1.12</td>\n",
       "      <td>Premium</td>\n",
       "      <td>G</td>\n",
       "      <td>I1</td>\n",
       "      <td>60.4</td>\n",
       "      <td>59.0</td>\n",
       "      <td>6.71</td>\n",
       "      <td>6.67</td>\n",
       "      <td>0.0</td>\n",
       "      <td>2383</td>\n",
       "    </tr>\n",
       "  </tbody>\n",
       "</table>\n",
       "</div>"
      ],
      "text/plain": [
       "       carat      cut color clarity  depth  table     x     y    z  price\n",
       "5821    0.71     Good     F     SI2   64.1   60.0  0.00  0.00  0.0   2130\n",
       "6034    2.02  Premium     H     VS2   62.7   53.0  8.02  7.95  0.0  18207\n",
       "6215    0.71     Good     F     SI2   64.1   60.0  0.00  0.00  0.0   2130\n",
       "10827   2.20  Premium     H     SI1   61.2   59.0  8.42  8.37  0.0  17265\n",
       "12498   2.18  Premium     H     SI2   59.4   61.0  8.49  8.45  0.0  12631\n",
       "12689   1.10  Premium     G     SI2   63.0   59.0  6.50  6.47  0.0   3696\n",
       "17506   1.14     Fair     G     VS1   57.5   67.0  0.00  0.00  0.0   6381\n",
       "18194   1.01  Premium     H      I1   58.1   59.0  6.66  6.60  0.0   3167\n",
       "23758   1.12  Premium     G      I1   60.4   59.0  6.71  6.67  0.0   2383"
      ]
     },
     "execution_count": 9,
     "metadata": {},
     "output_type": "execute_result"
    }
   ],
   "source": [
    "original[(original.x == 0) | (original.y == 0) | (original.z == 0)]"
   ]
  },
  {
   "cell_type": "code",
   "execution_count": 10,
   "metadata": {},
   "outputs": [
    {
     "data": {
      "text/html": [
       "<div>\n",
       "<style scoped>\n",
       "    .dataframe tbody tr th:only-of-type {\n",
       "        vertical-align: middle;\n",
       "    }\n",
       "\n",
       "    .dataframe tbody tr th {\n",
       "        vertical-align: top;\n",
       "    }\n",
       "\n",
       "    .dataframe thead th {\n",
       "        text-align: right;\n",
       "    }\n",
       "</style>\n",
       "<table border=\"1\" class=\"dataframe\">\n",
       "  <thead>\n",
       "    <tr style=\"text-align: right;\">\n",
       "      <th></th>\n",
       "      <th>carat</th>\n",
       "      <th>cut</th>\n",
       "      <th>color</th>\n",
       "      <th>clarity</th>\n",
       "      <th>depth</th>\n",
       "      <th>table</th>\n",
       "      <th>x</th>\n",
       "      <th>y</th>\n",
       "      <th>z</th>\n",
       "      <th>price</th>\n",
       "    </tr>\n",
       "  </thead>\n",
       "  <tbody>\n",
       "    <tr>\n",
       "      <th>8750</th>\n",
       "      <td>1.02</td>\n",
       "      <td>Premium</td>\n",
       "      <td>H</td>\n",
       "      <td>SI2</td>\n",
       "      <td>59.4</td>\n",
       "      <td>61.0</td>\n",
       "      <td>6.57</td>\n",
       "      <td>6.53</td>\n",
       "      <td>0.0</td>\n",
       "      <td>4144</td>\n",
       "    </tr>\n",
       "    <tr>\n",
       "      <th>39413</th>\n",
       "      <td>2.18</td>\n",
       "      <td>Premium</td>\n",
       "      <td>H</td>\n",
       "      <td>SI2</td>\n",
       "      <td>59.4</td>\n",
       "      <td>60.0</td>\n",
       "      <td>8.46</td>\n",
       "      <td>8.41</td>\n",
       "      <td>0.0</td>\n",
       "      <td>15842</td>\n",
       "    </tr>\n",
       "    <tr>\n",
       "      <th>92703</th>\n",
       "      <td>0.71</td>\n",
       "      <td>Good</td>\n",
       "      <td>F</td>\n",
       "      <td>SI1</td>\n",
       "      <td>64.1</td>\n",
       "      <td>60.0</td>\n",
       "      <td>0.00</td>\n",
       "      <td>0.00</td>\n",
       "      <td>0.0</td>\n",
       "      <td>2130</td>\n",
       "    </tr>\n",
       "    <tr>\n",
       "      <th>98719</th>\n",
       "      <td>2.17</td>\n",
       "      <td>Premium</td>\n",
       "      <td>H</td>\n",
       "      <td>SI2</td>\n",
       "      <td>60.3</td>\n",
       "      <td>57.0</td>\n",
       "      <td>8.42</td>\n",
       "      <td>8.36</td>\n",
       "      <td>0.0</td>\n",
       "      <td>15923</td>\n",
       "    </tr>\n",
       "    <tr>\n",
       "      <th>99624</th>\n",
       "      <td>2.20</td>\n",
       "      <td>Premium</td>\n",
       "      <td>I</td>\n",
       "      <td>SI2</td>\n",
       "      <td>60.1</td>\n",
       "      <td>60.0</td>\n",
       "      <td>8.45</td>\n",
       "      <td>8.41</td>\n",
       "      <td>0.0</td>\n",
       "      <td>11221</td>\n",
       "    </tr>\n",
       "    <tr>\n",
       "      <th>117161</th>\n",
       "      <td>2.20</td>\n",
       "      <td>Premium</td>\n",
       "      <td>F</td>\n",
       "      <td>SI2</td>\n",
       "      <td>60.3</td>\n",
       "      <td>58.0</td>\n",
       "      <td>8.49</td>\n",
       "      <td>8.45</td>\n",
       "      <td>0.0</td>\n",
       "      <td>15188</td>\n",
       "    </tr>\n",
       "    <tr>\n",
       "      <th>151690</th>\n",
       "      <td>2.18</td>\n",
       "      <td>Premium</td>\n",
       "      <td>I</td>\n",
       "      <td>VS2</td>\n",
       "      <td>61.2</td>\n",
       "      <td>62.0</td>\n",
       "      <td>8.45</td>\n",
       "      <td>8.37</td>\n",
       "      <td>0.0</td>\n",
       "      <td>15701</td>\n",
       "    </tr>\n",
       "    <tr>\n",
       "      <th>159429</th>\n",
       "      <td>2.18</td>\n",
       "      <td>Premium</td>\n",
       "      <td>H</td>\n",
       "      <td>SI2</td>\n",
       "      <td>60.8</td>\n",
       "      <td>59.0</td>\n",
       "      <td>8.42</td>\n",
       "      <td>8.38</td>\n",
       "      <td>0.0</td>\n",
       "      <td>13938</td>\n",
       "    </tr>\n",
       "    <tr>\n",
       "      <th>170318</th>\n",
       "      <td>0.71</td>\n",
       "      <td>Good</td>\n",
       "      <td>D</td>\n",
       "      <td>VS2</td>\n",
       "      <td>64.1</td>\n",
       "      <td>60.0</td>\n",
       "      <td>0.00</td>\n",
       "      <td>0.00</td>\n",
       "      <td>0.0</td>\n",
       "      <td>910</td>\n",
       "    </tr>\n",
       "    <tr>\n",
       "      <th>178000</th>\n",
       "      <td>0.71</td>\n",
       "      <td>Very Good</td>\n",
       "      <td>F</td>\n",
       "      <td>SI2</td>\n",
       "      <td>62.0</td>\n",
       "      <td>60.0</td>\n",
       "      <td>0.00</td>\n",
       "      <td>6.71</td>\n",
       "      <td>0.0</td>\n",
       "      <td>2130</td>\n",
       "    </tr>\n",
       "  </tbody>\n",
       "</table>\n",
       "</div>"
      ],
      "text/plain": [
       "        carat        cut color clarity  depth  table     x     y    z  price\n",
       "8750     1.02    Premium     H     SI2   59.4   61.0  6.57  6.53  0.0   4144\n",
       "39413    2.18    Premium     H     SI2   59.4   60.0  8.46  8.41  0.0  15842\n",
       "92703    0.71       Good     F     SI1   64.1   60.0  0.00  0.00  0.0   2130\n",
       "98719    2.17    Premium     H     SI2   60.3   57.0  8.42  8.36  0.0  15923\n",
       "99624    2.20    Premium     I     SI2   60.1   60.0  8.45  8.41  0.0  11221\n",
       "117161   2.20    Premium     F     SI2   60.3   58.0  8.49  8.45  0.0  15188\n",
       "151690   2.18    Premium     I     VS2   61.2   62.0  8.45  8.37  0.0  15701\n",
       "159429   2.18    Premium     H     SI2   60.8   59.0  8.42  8.38  0.0  13938\n",
       "170318   0.71       Good     D     VS2   64.1   60.0  0.00  0.00  0.0    910\n",
       "178000   0.71  Very Good     F     SI2   62.0   60.0  0.00  6.71  0.0   2130"
      ]
     },
     "execution_count": 10,
     "metadata": {},
     "output_type": "execute_result"
    }
   ],
   "source": [
    "train[(train.x == 0) | (train.y == 0) | (train.z == 0)]"
   ]
  },
  {
   "cell_type": "code",
   "execution_count": 11,
   "metadata": {},
   "outputs": [
    {
     "data": {
      "text/html": [
       "<div>\n",
       "<style scoped>\n",
       "    .dataframe tbody tr th:only-of-type {\n",
       "        vertical-align: middle;\n",
       "    }\n",
       "\n",
       "    .dataframe tbody tr th {\n",
       "        vertical-align: top;\n",
       "    }\n",
       "\n",
       "    .dataframe thead th {\n",
       "        text-align: right;\n",
       "    }\n",
       "</style>\n",
       "<table border=\"1\" class=\"dataframe\">\n",
       "  <thead>\n",
       "    <tr style=\"text-align: right;\">\n",
       "      <th></th>\n",
       "      <th>carat</th>\n",
       "      <th>cut</th>\n",
       "      <th>color</th>\n",
       "      <th>clarity</th>\n",
       "      <th>depth</th>\n",
       "      <th>table</th>\n",
       "      <th>x</th>\n",
       "      <th>y</th>\n",
       "      <th>z</th>\n",
       "    </tr>\n",
       "  </thead>\n",
       "  <tbody>\n",
       "    <tr>\n",
       "      <th>344</th>\n",
       "      <td>1.11</td>\n",
       "      <td>Premium</td>\n",
       "      <td>E</td>\n",
       "      <td>SI2</td>\n",
       "      <td>63.0</td>\n",
       "      <td>60.0</td>\n",
       "      <td>6.59</td>\n",
       "      <td>6.56</td>\n",
       "      <td>0.0</td>\n",
       "    </tr>\n",
       "    <tr>\n",
       "      <th>2460</th>\n",
       "      <td>1.10</td>\n",
       "      <td>Very Good</td>\n",
       "      <td>E</td>\n",
       "      <td>SI2</td>\n",
       "      <td>62.5</td>\n",
       "      <td>60.0</td>\n",
       "      <td>6.52</td>\n",
       "      <td>6.57</td>\n",
       "      <td>0.0</td>\n",
       "    </tr>\n",
       "    <tr>\n",
       "      <th>9036</th>\n",
       "      <td>2.18</td>\n",
       "      <td>Premium</td>\n",
       "      <td>G</td>\n",
       "      <td>SI1</td>\n",
       "      <td>62.4</td>\n",
       "      <td>59.0</td>\n",
       "      <td>8.25</td>\n",
       "      <td>8.22</td>\n",
       "      <td>0.0</td>\n",
       "    </tr>\n",
       "    <tr>\n",
       "      <th>10693</th>\n",
       "      <td>2.20</td>\n",
       "      <td>Premium</td>\n",
       "      <td>I</td>\n",
       "      <td>VS1</td>\n",
       "      <td>59.4</td>\n",
       "      <td>59.0</td>\n",
       "      <td>8.49</td>\n",
       "      <td>8.45</td>\n",
       "      <td>0.0</td>\n",
       "    </tr>\n",
       "    <tr>\n",
       "      <th>50969</th>\n",
       "      <td>2.20</td>\n",
       "      <td>Premium</td>\n",
       "      <td>I</td>\n",
       "      <td>SI1</td>\n",
       "      <td>60.8</td>\n",
       "      <td>58.0</td>\n",
       "      <td>8.42</td>\n",
       "      <td>8.46</td>\n",
       "      <td>0.0</td>\n",
       "    </tr>\n",
       "    <tr>\n",
       "      <th>66929</th>\n",
       "      <td>2.20</td>\n",
       "      <td>Premium</td>\n",
       "      <td>I</td>\n",
       "      <td>SI1</td>\n",
       "      <td>61.2</td>\n",
       "      <td>59.0</td>\n",
       "      <td>8.43</td>\n",
       "      <td>8.39</td>\n",
       "      <td>0.0</td>\n",
       "    </tr>\n",
       "    <tr>\n",
       "      <th>68406</th>\n",
       "      <td>0.71</td>\n",
       "      <td>Good</td>\n",
       "      <td>G</td>\n",
       "      <td>SI1</td>\n",
       "      <td>64.2</td>\n",
       "      <td>59.0</td>\n",
       "      <td>0.00</td>\n",
       "      <td>0.00</td>\n",
       "      <td>0.0</td>\n",
       "    </tr>\n",
       "    <tr>\n",
       "      <th>72930</th>\n",
       "      <td>2.18</td>\n",
       "      <td>Premium</td>\n",
       "      <td>H</td>\n",
       "      <td>SI1</td>\n",
       "      <td>59.1</td>\n",
       "      <td>61.0</td>\n",
       "      <td>8.47</td>\n",
       "      <td>8.41</td>\n",
       "      <td>0.0</td>\n",
       "    </tr>\n",
       "    <tr>\n",
       "      <th>73937</th>\n",
       "      <td>1.01</td>\n",
       "      <td>Premium</td>\n",
       "      <td>H</td>\n",
       "      <td>I1</td>\n",
       "      <td>61.1</td>\n",
       "      <td>59.0</td>\n",
       "      <td>6.42</td>\n",
       "      <td>6.46</td>\n",
       "      <td>0.0</td>\n",
       "    </tr>\n",
       "    <tr>\n",
       "      <th>74113</th>\n",
       "      <td>0.71</td>\n",
       "      <td>Very Good</td>\n",
       "      <td>F</td>\n",
       "      <td>SI2</td>\n",
       "      <td>64.1</td>\n",
       "      <td>56.0</td>\n",
       "      <td>0.00</td>\n",
       "      <td>0.00</td>\n",
       "      <td>0.0</td>\n",
       "    </tr>\n",
       "    <tr>\n",
       "      <th>94209</th>\n",
       "      <td>2.01</td>\n",
       "      <td>Premium</td>\n",
       "      <td>H</td>\n",
       "      <td>VS2</td>\n",
       "      <td>62.6</td>\n",
       "      <td>53.0</td>\n",
       "      <td>8.02</td>\n",
       "      <td>7.93</td>\n",
       "      <td>0.0</td>\n",
       "    </tr>\n",
       "    <tr>\n",
       "      <th>98515</th>\n",
       "      <td>0.71</td>\n",
       "      <td>Good</td>\n",
       "      <td>F</td>\n",
       "      <td>SI2</td>\n",
       "      <td>64.1</td>\n",
       "      <td>60.0</td>\n",
       "      <td>0.00</td>\n",
       "      <td>0.00</td>\n",
       "      <td>0.0</td>\n",
       "    </tr>\n",
       "    <tr>\n",
       "      <th>99533</th>\n",
       "      <td>1.01</td>\n",
       "      <td>Premium</td>\n",
       "      <td>H</td>\n",
       "      <td>VS2</td>\n",
       "      <td>62.6</td>\n",
       "      <td>58.0</td>\n",
       "      <td>6.42</td>\n",
       "      <td>6.50</td>\n",
       "      <td>0.0</td>\n",
       "    </tr>\n",
       "    <tr>\n",
       "      <th>126332</th>\n",
       "      <td>2.20</td>\n",
       "      <td>Premium</td>\n",
       "      <td>I</td>\n",
       "      <td>VS2</td>\n",
       "      <td>60.2</td>\n",
       "      <td>59.0</td>\n",
       "      <td>8.42</td>\n",
       "      <td>8.46</td>\n",
       "      <td>0.0</td>\n",
       "    </tr>\n",
       "  </tbody>\n",
       "</table>\n",
       "</div>"
      ],
      "text/plain": [
       "        carat        cut color clarity  depth  table     x     y    z\n",
       "344      1.11    Premium     E     SI2   63.0   60.0  6.59  6.56  0.0\n",
       "2460     1.10  Very Good     E     SI2   62.5   60.0  6.52  6.57  0.0\n",
       "9036     2.18    Premium     G     SI1   62.4   59.0  8.25  8.22  0.0\n",
       "10693    2.20    Premium     I     VS1   59.4   59.0  8.49  8.45  0.0\n",
       "50969    2.20    Premium     I     SI1   60.8   58.0  8.42  8.46  0.0\n",
       "66929    2.20    Premium     I     SI1   61.2   59.0  8.43  8.39  0.0\n",
       "68406    0.71       Good     G     SI1   64.2   59.0  0.00  0.00  0.0\n",
       "72930    2.18    Premium     H     SI1   59.1   61.0  8.47  8.41  0.0\n",
       "73937    1.01    Premium     H      I1   61.1   59.0  6.42  6.46  0.0\n",
       "74113    0.71  Very Good     F     SI2   64.1   56.0  0.00  0.00  0.0\n",
       "94209    2.01    Premium     H     VS2   62.6   53.0  8.02  7.93  0.0\n",
       "98515    0.71       Good     F     SI2   64.1   60.0  0.00  0.00  0.0\n",
       "99533    1.01    Premium     H     VS2   62.6   58.0  6.42  6.50  0.0\n",
       "126332   2.20    Premium     I     VS2   60.2   59.0  8.42  8.46  0.0"
      ]
     },
     "execution_count": 11,
     "metadata": {},
     "output_type": "execute_result"
    }
   ],
   "source": [
    "test[(test.x == 0) | (test.y == 0) | (test.z == 0)]"
   ]
  },
  {
   "attachments": {},
   "cell_type": "markdown",
   "metadata": {},
   "source": [
    "Python formula:  \n",
    "\n",
    "round(((train.loc[i, 'x'] + train.loc[i, 'y']) / 2) * train.loc[i, 'depth'] / (train.loc[i, 'x'] * train.loc[i, 'y']),2)"
   ]
  },
  {
   "cell_type": "code",
   "execution_count": 12,
   "metadata": {},
   "outputs": [],
   "source": [
    "# Writing a loop for the original dataset\n",
    "\n",
    "for i in original[(original.x == 0) | (original.y == 0) | (original.z == 0)].index: \n",
    "    if original.loc[i, 'x'] != 0 and original.loc[i, 'y'] != 0:\n",
    "        original.loc[i, 'z'] = round(((original.loc[i, 'x'] + original.loc[i, 'y']) / 2) * original.loc[i, 'depth'] / (original.loc[i, 'x'] * original.loc[i, 'y']),2)"
   ]
  },
  {
   "cell_type": "code",
   "execution_count": 13,
   "metadata": {},
   "outputs": [],
   "source": [
    "# Writing a loop for the training set\n",
    "\n",
    "for i in train[(train.x == 0) | (train.y == 0) | (train.z == 0)].index: \n",
    "    if train.loc[i, 'x'] != 0 and train.loc[i, 'y'] != 0:\n",
    "        train.loc[i, 'z'] = round(((train.loc[i, 'x'] + train.loc[i, 'y']) / 2) * train.loc[i, 'depth'] / (train.loc[i, 'x'] * train.loc[i, 'y']),2)"
   ]
  },
  {
   "cell_type": "code",
   "execution_count": 14,
   "metadata": {},
   "outputs": [],
   "source": [
    "# Writing a loop for the test set\n",
    "\n",
    "for i in test[(test.x == 0) | (test.y == 0) | (test.z == 0)].index: \n",
    "    if test.loc[i, 'x'] != 0 and test.loc[i, 'y'] != 0:\n",
    "        test.loc[i, 'z'] = round(((test.loc[i, 'x'] + test.loc[i, 'y']) / 2) * test.loc[i, 'depth'] / (test.loc[i, 'x'] * test.loc[i, 'y']),2)"
   ]
  },
  {
   "cell_type": "code",
   "execution_count": 15,
   "metadata": {},
   "outputs": [
    {
     "data": {
      "text/html": [
       "<div>\n",
       "<style scoped>\n",
       "    .dataframe tbody tr th:only-of-type {\n",
       "        vertical-align: middle;\n",
       "    }\n",
       "\n",
       "    .dataframe tbody tr th {\n",
       "        vertical-align: top;\n",
       "    }\n",
       "\n",
       "    .dataframe thead th {\n",
       "        text-align: right;\n",
       "    }\n",
       "</style>\n",
       "<table border=\"1\" class=\"dataframe\">\n",
       "  <thead>\n",
       "    <tr style=\"text-align: right;\">\n",
       "      <th></th>\n",
       "      <th>carat</th>\n",
       "      <th>cut</th>\n",
       "      <th>color</th>\n",
       "      <th>clarity</th>\n",
       "      <th>depth</th>\n",
       "      <th>table</th>\n",
       "      <th>x</th>\n",
       "      <th>y</th>\n",
       "      <th>z</th>\n",
       "      <th>price</th>\n",
       "    </tr>\n",
       "  </thead>\n",
       "  <tbody>\n",
       "    <tr>\n",
       "      <th>5821</th>\n",
       "      <td>0.71</td>\n",
       "      <td>Good</td>\n",
       "      <td>F</td>\n",
       "      <td>SI2</td>\n",
       "      <td>64.1</td>\n",
       "      <td>60.0</td>\n",
       "      <td>0.0</td>\n",
       "      <td>0.0</td>\n",
       "      <td>0.0</td>\n",
       "      <td>2130</td>\n",
       "    </tr>\n",
       "    <tr>\n",
       "      <th>6215</th>\n",
       "      <td>0.71</td>\n",
       "      <td>Good</td>\n",
       "      <td>F</td>\n",
       "      <td>SI2</td>\n",
       "      <td>64.1</td>\n",
       "      <td>60.0</td>\n",
       "      <td>0.0</td>\n",
       "      <td>0.0</td>\n",
       "      <td>0.0</td>\n",
       "      <td>2130</td>\n",
       "    </tr>\n",
       "    <tr>\n",
       "      <th>17506</th>\n",
       "      <td>1.14</td>\n",
       "      <td>Fair</td>\n",
       "      <td>G</td>\n",
       "      <td>VS1</td>\n",
       "      <td>57.5</td>\n",
       "      <td>67.0</td>\n",
       "      <td>0.0</td>\n",
       "      <td>0.0</td>\n",
       "      <td>0.0</td>\n",
       "      <td>6381</td>\n",
       "    </tr>\n",
       "  </tbody>\n",
       "</table>\n",
       "</div>"
      ],
      "text/plain": [
       "       carat   cut color clarity  depth  table    x    y    z  price\n",
       "5821    0.71  Good     F     SI2   64.1   60.0  0.0  0.0  0.0   2130\n",
       "6215    0.71  Good     F     SI2   64.1   60.0  0.0  0.0  0.0   2130\n",
       "17506   1.14  Fair     G     VS1   57.5   67.0  0.0  0.0  0.0   6381"
      ]
     },
     "execution_count": 15,
     "metadata": {},
     "output_type": "execute_result"
    }
   ],
   "source": [
    "original[(original.x == 0) | (original.y == 0) | (original.z == 0)]"
   ]
  },
  {
   "cell_type": "code",
   "execution_count": 16,
   "metadata": {},
   "outputs": [
    {
     "data": {
      "text/html": [
       "<div>\n",
       "<style scoped>\n",
       "    .dataframe tbody tr th:only-of-type {\n",
       "        vertical-align: middle;\n",
       "    }\n",
       "\n",
       "    .dataframe tbody tr th {\n",
       "        vertical-align: top;\n",
       "    }\n",
       "\n",
       "    .dataframe thead th {\n",
       "        text-align: right;\n",
       "    }\n",
       "</style>\n",
       "<table border=\"1\" class=\"dataframe\">\n",
       "  <thead>\n",
       "    <tr style=\"text-align: right;\">\n",
       "      <th></th>\n",
       "      <th>carat</th>\n",
       "      <th>cut</th>\n",
       "      <th>color</th>\n",
       "      <th>clarity</th>\n",
       "      <th>depth</th>\n",
       "      <th>table</th>\n",
       "      <th>x</th>\n",
       "      <th>y</th>\n",
       "      <th>z</th>\n",
       "      <th>price</th>\n",
       "    </tr>\n",
       "  </thead>\n",
       "  <tbody>\n",
       "    <tr>\n",
       "      <th>92703</th>\n",
       "      <td>0.71</td>\n",
       "      <td>Good</td>\n",
       "      <td>F</td>\n",
       "      <td>SI1</td>\n",
       "      <td>64.1</td>\n",
       "      <td>60.0</td>\n",
       "      <td>0.0</td>\n",
       "      <td>0.00</td>\n",
       "      <td>0.0</td>\n",
       "      <td>2130</td>\n",
       "    </tr>\n",
       "    <tr>\n",
       "      <th>170318</th>\n",
       "      <td>0.71</td>\n",
       "      <td>Good</td>\n",
       "      <td>D</td>\n",
       "      <td>VS2</td>\n",
       "      <td>64.1</td>\n",
       "      <td>60.0</td>\n",
       "      <td>0.0</td>\n",
       "      <td>0.00</td>\n",
       "      <td>0.0</td>\n",
       "      <td>910</td>\n",
       "    </tr>\n",
       "    <tr>\n",
       "      <th>178000</th>\n",
       "      <td>0.71</td>\n",
       "      <td>Very Good</td>\n",
       "      <td>F</td>\n",
       "      <td>SI2</td>\n",
       "      <td>62.0</td>\n",
       "      <td>60.0</td>\n",
       "      <td>0.0</td>\n",
       "      <td>6.71</td>\n",
       "      <td>0.0</td>\n",
       "      <td>2130</td>\n",
       "    </tr>\n",
       "  </tbody>\n",
       "</table>\n",
       "</div>"
      ],
      "text/plain": [
       "        carat        cut color clarity  depth  table    x     y    z  price\n",
       "92703    0.71       Good     F     SI1   64.1   60.0  0.0  0.00  0.0   2130\n",
       "170318   0.71       Good     D     VS2   64.1   60.0  0.0  0.00  0.0    910\n",
       "178000   0.71  Very Good     F     SI2   62.0   60.0  0.0  6.71  0.0   2130"
      ]
     },
     "execution_count": 16,
     "metadata": {},
     "output_type": "execute_result"
    }
   ],
   "source": [
    "train[(train.x == 0) | (train.y == 0) | (train.z == 0)]"
   ]
  },
  {
   "cell_type": "code",
   "execution_count": 17,
   "metadata": {},
   "outputs": [
    {
     "data": {
      "text/html": [
       "<div>\n",
       "<style scoped>\n",
       "    .dataframe tbody tr th:only-of-type {\n",
       "        vertical-align: middle;\n",
       "    }\n",
       "\n",
       "    .dataframe tbody tr th {\n",
       "        vertical-align: top;\n",
       "    }\n",
       "\n",
       "    .dataframe thead th {\n",
       "        text-align: right;\n",
       "    }\n",
       "</style>\n",
       "<table border=\"1\" class=\"dataframe\">\n",
       "  <thead>\n",
       "    <tr style=\"text-align: right;\">\n",
       "      <th></th>\n",
       "      <th>carat</th>\n",
       "      <th>cut</th>\n",
       "      <th>color</th>\n",
       "      <th>clarity</th>\n",
       "      <th>depth</th>\n",
       "      <th>table</th>\n",
       "      <th>x</th>\n",
       "      <th>y</th>\n",
       "      <th>z</th>\n",
       "    </tr>\n",
       "  </thead>\n",
       "  <tbody>\n",
       "    <tr>\n",
       "      <th>68406</th>\n",
       "      <td>0.71</td>\n",
       "      <td>Good</td>\n",
       "      <td>G</td>\n",
       "      <td>SI1</td>\n",
       "      <td>64.2</td>\n",
       "      <td>59.0</td>\n",
       "      <td>0.0</td>\n",
       "      <td>0.0</td>\n",
       "      <td>0.0</td>\n",
       "    </tr>\n",
       "    <tr>\n",
       "      <th>74113</th>\n",
       "      <td>0.71</td>\n",
       "      <td>Very Good</td>\n",
       "      <td>F</td>\n",
       "      <td>SI2</td>\n",
       "      <td>64.1</td>\n",
       "      <td>56.0</td>\n",
       "      <td>0.0</td>\n",
       "      <td>0.0</td>\n",
       "      <td>0.0</td>\n",
       "    </tr>\n",
       "    <tr>\n",
       "      <th>98515</th>\n",
       "      <td>0.71</td>\n",
       "      <td>Good</td>\n",
       "      <td>F</td>\n",
       "      <td>SI2</td>\n",
       "      <td>64.1</td>\n",
       "      <td>60.0</td>\n",
       "      <td>0.0</td>\n",
       "      <td>0.0</td>\n",
       "      <td>0.0</td>\n",
       "    </tr>\n",
       "  </tbody>\n",
       "</table>\n",
       "</div>"
      ],
      "text/plain": [
       "       carat        cut color clarity  depth  table    x    y    z\n",
       "68406   0.71       Good     G     SI1   64.2   59.0  0.0  0.0  0.0\n",
       "74113   0.71  Very Good     F     SI2   64.1   56.0  0.0  0.0  0.0\n",
       "98515   0.71       Good     F     SI2   64.1   60.0  0.0  0.0  0.0"
      ]
     },
     "execution_count": 17,
     "metadata": {},
     "output_type": "execute_result"
    }
   ],
   "source": [
    "test[(test.x == 0) | (test.y == 0) | (test.z == 0)]"
   ]
  },
  {
   "attachments": {},
   "cell_type": "markdown",
   "metadata": {},
   "source": [
    "While in the training and in the original set the remaining values with 0 can be dropped, this is not possible for the test set.  \n",
    "\n",
    "x = sqrt((Table/100)^2 / (1 + (tan(arccos(2*(Depth/100)-1)))^2))  \n",
    "Python: test.loc[68406, 'x'] = round(np.sqrt(np.square((test.loc[68406, 'table']/100)) / (1 + np.square((np.tan(np.arccos(2*(test.loc[68406, 'depth']/100)-1)))))),2)  \n",
    "\n",
    "y = x / (Table/100) * sqrt(1 / (1 - (Depth/100) + (Depth/100) / (tan(arccos(2*(Depth/100)-1)))^2))  \n",
    "Python: round(test.loc[68406,'x'] / (test.loc[68406,'table']/100) * np.sqrt(1 / (1 - np.square((test.loc[68406,'depth']/100) + (test.loc[68406,'depth']/100) / (np.tan(np.arccos(2*(test.loc[68406,'depth']/100)-1)))))),2)   "
   ]
  },
  {
   "attachments": {},
   "cell_type": "markdown",
   "metadata": {},
   "source": [
    "Dropping 0s of the train set."
   ]
  },
  {
   "cell_type": "code",
   "execution_count": 18,
   "metadata": {},
   "outputs": [],
   "source": [
    "train.drop(index=train[(train.x == 0) | (train.y == 0) | (train.z == 0)].index, inplace=True)\n",
    "original.drop(index=original[(original.x == 0) | (original.y == 0) | (original.z == 0)].index, inplace=True)"
   ]
  },
  {
   "cell_type": "code",
   "execution_count": 19,
   "metadata": {},
   "outputs": [],
   "source": [
    "# Writing a loop for the test set\n",
    "\n",
    "for i in  test[(test.x == 0) | (test.y == 0) | (test.z == 0)].index:\n",
    "    test.loc[i, 'x'] = round(np.sqrt(np.square((test.loc[i, 'table']/100)) / (1 + np.square((np.tan(np.arccos(2*(test.loc[i, 'depth']/100)-1)))))),2)\n",
    "    test.loc[i, 'y'] = round(test.loc[68406,'x'] / (test.loc[68406,'table']/100) * np.sqrt(1 / (1 - np.square((test.loc[68406,'depth']/100) + (test.loc[68406,'depth']/100) / (np.tan(np.arccos(2*(test.loc[68406,'depth']/100)-1)))))),2) \n",
    "    test.loc[i, 'z'] = round(((test.loc[i, 'x'] + test.loc[i, 'y']) / 2) * test.loc[i, 'depth'] / (test.loc[i, 'x'] * test.loc[i, 'y']),2)"
   ]
  },
  {
   "cell_type": "code",
   "execution_count": 20,
   "metadata": {},
   "outputs": [
    {
     "data": {
      "text/html": [
       "<div>\n",
       "<style scoped>\n",
       "    .dataframe tbody tr th:only-of-type {\n",
       "        vertical-align: middle;\n",
       "    }\n",
       "\n",
       "    .dataframe tbody tr th {\n",
       "        vertical-align: top;\n",
       "    }\n",
       "\n",
       "    .dataframe thead th {\n",
       "        text-align: right;\n",
       "    }\n",
       "</style>\n",
       "<table border=\"1\" class=\"dataframe\">\n",
       "  <thead>\n",
       "    <tr style=\"text-align: right;\">\n",
       "      <th></th>\n",
       "      <th>carat</th>\n",
       "      <th>cut</th>\n",
       "      <th>color</th>\n",
       "      <th>clarity</th>\n",
       "      <th>depth</th>\n",
       "      <th>table</th>\n",
       "      <th>x</th>\n",
       "      <th>y</th>\n",
       "      <th>z</th>\n",
       "      <th>price</th>\n",
       "    </tr>\n",
       "  </thead>\n",
       "  <tbody>\n",
       "  </tbody>\n",
       "</table>\n",
       "</div>"
      ],
      "text/plain": [
       "Empty DataFrame\n",
       "Columns: [carat, cut, color, clarity, depth, table, x, y, z, price]\n",
       "Index: []"
      ]
     },
     "execution_count": 20,
     "metadata": {},
     "output_type": "execute_result"
    }
   ],
   "source": [
    "original[(original.x == 0) | (original.y == 0) | (original.z == 0)]"
   ]
  },
  {
   "cell_type": "code",
   "execution_count": 21,
   "metadata": {},
   "outputs": [
    {
     "data": {
      "text/html": [
       "<div>\n",
       "<style scoped>\n",
       "    .dataframe tbody tr th:only-of-type {\n",
       "        vertical-align: middle;\n",
       "    }\n",
       "\n",
       "    .dataframe tbody tr th {\n",
       "        vertical-align: top;\n",
       "    }\n",
       "\n",
       "    .dataframe thead th {\n",
       "        text-align: right;\n",
       "    }\n",
       "</style>\n",
       "<table border=\"1\" class=\"dataframe\">\n",
       "  <thead>\n",
       "    <tr style=\"text-align: right;\">\n",
       "      <th></th>\n",
       "      <th>carat</th>\n",
       "      <th>cut</th>\n",
       "      <th>color</th>\n",
       "      <th>clarity</th>\n",
       "      <th>depth</th>\n",
       "      <th>table</th>\n",
       "      <th>x</th>\n",
       "      <th>y</th>\n",
       "      <th>z</th>\n",
       "      <th>price</th>\n",
       "    </tr>\n",
       "  </thead>\n",
       "  <tbody>\n",
       "  </tbody>\n",
       "</table>\n",
       "</div>"
      ],
      "text/plain": [
       "Empty DataFrame\n",
       "Columns: [carat, cut, color, clarity, depth, table, x, y, z, price]\n",
       "Index: []"
      ]
     },
     "execution_count": 21,
     "metadata": {},
     "output_type": "execute_result"
    }
   ],
   "source": [
    "train[(train.x == 0) | (train.y == 0) | (train.z == 0)]"
   ]
  },
  {
   "cell_type": "code",
   "execution_count": 22,
   "metadata": {},
   "outputs": [
    {
     "data": {
      "text/html": [
       "<div>\n",
       "<style scoped>\n",
       "    .dataframe tbody tr th:only-of-type {\n",
       "        vertical-align: middle;\n",
       "    }\n",
       "\n",
       "    .dataframe tbody tr th {\n",
       "        vertical-align: top;\n",
       "    }\n",
       "\n",
       "    .dataframe thead th {\n",
       "        text-align: right;\n",
       "    }\n",
       "</style>\n",
       "<table border=\"1\" class=\"dataframe\">\n",
       "  <thead>\n",
       "    <tr style=\"text-align: right;\">\n",
       "      <th></th>\n",
       "      <th>carat</th>\n",
       "      <th>cut</th>\n",
       "      <th>color</th>\n",
       "      <th>clarity</th>\n",
       "      <th>depth</th>\n",
       "      <th>table</th>\n",
       "      <th>x</th>\n",
       "      <th>y</th>\n",
       "      <th>z</th>\n",
       "    </tr>\n",
       "  </thead>\n",
       "  <tbody>\n",
       "  </tbody>\n",
       "</table>\n",
       "</div>"
      ],
      "text/plain": [
       "Empty DataFrame\n",
       "Columns: [carat, cut, color, clarity, depth, table, x, y, z]\n",
       "Index: []"
      ]
     },
     "execution_count": 22,
     "metadata": {},
     "output_type": "execute_result"
    }
   ],
   "source": [
    "test[(test.x == 0) | (test.y == 0) | (test.z == 0)]"
   ]
  },
  {
   "attachments": {},
   "cell_type": "markdown",
   "metadata": {},
   "source": [
    "No more 0s."
   ]
  },
  {
   "attachments": {},
   "cell_type": "markdown",
   "metadata": {},
   "source": [
    "### Adding the Original Dataset"
   ]
  },
  {
   "cell_type": "code",
   "execution_count": 23,
   "metadata": {},
   "outputs": [
    {
     "name": "stdout",
     "output_type": "stream",
     "text": [
      "<class 'pandas.core.frame.DataFrame'>\n",
      "Int64Index: 26964 entries, 0 to 26966\n",
      "Data columns (total 10 columns):\n",
      " #   Column   Non-Null Count  Dtype  \n",
      "---  ------   --------------  -----  \n",
      " 0   carat    26964 non-null  float64\n",
      " 1   cut      26964 non-null  object \n",
      " 2   color    26964 non-null  object \n",
      " 3   clarity  26964 non-null  object \n",
      " 4   depth    26267 non-null  float64\n",
      " 5   table    26964 non-null  float64\n",
      " 6   x        26964 non-null  float64\n",
      " 7   y        26964 non-null  float64\n",
      " 8   z        26964 non-null  float64\n",
      " 9   price    26964 non-null  int64  \n",
      "dtypes: float64(6), int64(1), object(3)\n",
      "memory usage: 2.3+ MB\n"
     ]
    }
   ],
   "source": [
    "original.info()"
   ]
  },
  {
   "cell_type": "code",
   "execution_count": 24,
   "metadata": {},
   "outputs": [],
   "source": [
    "train = pd.concat([train, original])"
   ]
  },
  {
   "attachments": {},
   "cell_type": "markdown",
   "metadata": {},
   "source": [
    "### Carat Weight  \n",
    "\n",
    "Carat weight = (x * y * z) / 200"
   ]
  },
  {
   "cell_type": "code",
   "execution_count": 25,
   "metadata": {},
   "outputs": [],
   "source": [
    "train['carat_weight'] = (train.x * train.y * train.z) / 200  \n",
    "test['carat_weight'] = (test.x * test.y * test.z) / 200"
   ]
  },
  {
   "attachments": {},
   "cell_type": "markdown",
   "metadata": {},
   "source": [
    "### Volume  \n",
    "\n",
    "Volume = x * y * z"
   ]
  },
  {
   "cell_type": "code",
   "execution_count": 26,
   "metadata": {},
   "outputs": [],
   "source": [
    "train['volume'] = train.x * train.y * train.y \n",
    "test['volume'] = test.x * test.y * test.y "
   ]
  },
  {
   "attachments": {},
   "cell_type": "markdown",
   "metadata": {},
   "source": [
    "### Total Depth Percentage  \n",
    "\n",
    "Total depth percentage = (2 * depth) / (x + y)"
   ]
  },
  {
   "cell_type": "code",
   "execution_count": 27,
   "metadata": {},
   "outputs": [],
   "source": [
    "train['total_depth_percentage'] = (2 * train.depth) / (train.x + train.y)\n",
    "test['total_depth_percentage'] = (2 * test.depth) / (test.x + test.y)"
   ]
  },
  {
   "attachments": {},
   "cell_type": "markdown",
   "metadata": {},
   "source": [
    "### Table Size Percentage  \n",
    "\n",
    "Table size percentage = (table / ((x + y) / 2)) * 100"
   ]
  },
  {
   "cell_type": "code",
   "execution_count": 28,
   "metadata": {},
   "outputs": [],
   "source": [
    "train['table_size_percentage'] = (train.table / ((train.x + train.y) / 2)) * 100\n",
    "test['table_size_percentage'] = (test.table / ((test.x + test.y) / 2)) * 100"
   ]
  },
  {
   "attachments": {},
   "cell_type": "markdown",
   "metadata": {},
   "source": [
    "### Crown Height  \n",
    "\n",
    "Crown height = depth * (1 - (table / 100))  "
   ]
  },
  {
   "cell_type": "code",
   "execution_count": 29,
   "metadata": {},
   "outputs": [],
   "source": [
    "train['crown_height'] = train.depth * (1 - (train.table / 100))\n",
    "test['crown_height'] = test.depth * (1 - (test.table / 100))"
   ]
  },
  {
   "attachments": {},
   "cell_type": "markdown",
   "metadata": {},
   "source": [
    "### Pavilion Depth  \n",
    "\n",
    "Pavilion depth = depth * (1 - (total depth percentage / 100)) "
   ]
  },
  {
   "cell_type": "code",
   "execution_count": 30,
   "metadata": {},
   "outputs": [],
   "source": [
    "train['pavilion_depth'] = train.depth * (1 - (train.total_depth_percentage / 100))\n",
    "test['pavilion_depth'] = test.depth * (1 - (test.total_depth_percentage / 100))"
   ]
  },
  {
   "attachments": {},
   "cell_type": "markdown",
   "metadata": {},
   "source": [
    "### Crown Angle  \n",
    "\n",
    "Crown angle = arctan((crown height / 2) / (x + y) / 2) * 2"
   ]
  },
  {
   "cell_type": "code",
   "execution_count": 31,
   "metadata": {},
   "outputs": [],
   "source": [
    "train['crown_angle'] = np.arctan((train.crown_height / 2) / (train.x + train.y) / 2) * 2\n",
    "test['crown_angle'] = np.arctan((test.crown_height / 2) / (test.x + test.y) / 2) * 2"
   ]
  },
  {
   "attachments": {},
   "cell_type": "markdown",
   "metadata": {},
   "source": [
    "### Pavilion Angle  \n",
    "\n",
    "Pavilion angle = arctan(pavilion depth / (x + y) / 2) * 2 "
   ]
  },
  {
   "cell_type": "code",
   "execution_count": 32,
   "metadata": {},
   "outputs": [],
   "source": [
    "train['pavilion_angle'] = np.arctan(train.pavilion_depth / (train.x + train.y) / 2) * 2\n",
    "test['pavilion_angle'] = np.arctan(test.pavilion_depth / (test.x + test.y) / 2) * 2"
   ]
  },
  {
   "attachments": {},
   "cell_type": "markdown",
   "metadata": {},
   "source": [
    "### Ordinal Encoding"
   ]
  },
  {
   "attachments": {},
   "cell_type": "markdown",
   "metadata": {},
   "source": [
    "#### Cut  \n",
    "\n",
    " Describe the cut quality of the cubic zirconia. Quality is increasing order Fair, Good, Very Good, Premium, Ideal."
   ]
  },
  {
   "cell_type": "code",
   "execution_count": 33,
   "metadata": {},
   "outputs": [],
   "source": [
    "cut = {'Fair':0, 'Good':1, 'Very Good':2, 'Premium':3, 'Ideal':4}\n",
    "\n",
    "train['cut'] = train.cut.map(cut)\n",
    "test['cut'] = test.cut.map(cut)"
   ]
  },
  {
   "attachments": {},
   "cell_type": "markdown",
   "metadata": {},
   "source": [
    "#### Color  \n",
    "\n",
    " Colour of the cubic zirconia.  \n",
    "With D being the best and J the worst."
   ]
  },
  {
   "cell_type": "code",
   "execution_count": 34,
   "metadata": {},
   "outputs": [],
   "source": [
    "color = {'J':0, 'I':1, 'H':2, 'G':3, 'F':4, 'E':5, 'D':6}\n",
    "\n",
    "train['color'] = train.color.map(color) \n",
    "test['color'] = test.color.map(color)"
   ]
  },
  {
   "attachments": {},
   "cell_type": "markdown",
   "metadata": {},
   "source": [
    "#### Clarity  \n",
    "\n",
    " cubic zirconia Clarity refers to the absence of the Inclusions and Blemishes.  \n",
    "(In order from Best to Worst, FL = flawless, I3= level 3 inclusions) FL, IF, VVS1, VVS2, VS1, VS2, SI1, SI2, I1, I2, I3"
   ]
  },
  {
   "cell_type": "code",
   "execution_count": 35,
   "metadata": {},
   "outputs": [],
   "source": [
    "clarity = {'I3':0, 'I2':1, 'I1':2, 'SI2':3, 'SI1':4, 'VS2':5, 'VS1':6, 'VVS2':7, 'VVS1':8, 'IF':9, 'FL':10}\n",
    "\n",
    "train['clarity'] = train.clarity.map(clarity)\n",
    "test['clarity'] = test.clarity.map(clarity)"
   ]
  },
  {
   "attachments": {},
   "cell_type": "markdown",
   "metadata": {},
   "source": [
    "# Dividing in X and y "
   ]
  },
  {
   "cell_type": "code",
   "execution_count": 36,
   "metadata": {},
   "outputs": [],
   "source": [
    "X = train.drop(columns='price')\n",
    "y = train.price"
   ]
  },
  {
   "cell_type": "code",
   "execution_count": 37,
   "metadata": {},
   "outputs": [
    {
     "data": {
      "text/html": [
       "<div>\n",
       "<style scoped>\n",
       "    .dataframe tbody tr th:only-of-type {\n",
       "        vertical-align: middle;\n",
       "    }\n",
       "\n",
       "    .dataframe tbody tr th {\n",
       "        vertical-align: top;\n",
       "    }\n",
       "\n",
       "    .dataframe thead th {\n",
       "        text-align: right;\n",
       "    }\n",
       "</style>\n",
       "<table border=\"1\" class=\"dataframe\">\n",
       "  <thead>\n",
       "    <tr style=\"text-align: right;\">\n",
       "      <th></th>\n",
       "      <th>carat</th>\n",
       "      <th>cut</th>\n",
       "      <th>color</th>\n",
       "      <th>clarity</th>\n",
       "      <th>depth</th>\n",
       "      <th>table</th>\n",
       "      <th>x</th>\n",
       "      <th>y</th>\n",
       "      <th>z</th>\n",
       "      <th>carat_weight</th>\n",
       "      <th>volume</th>\n",
       "      <th>total_depth_percentage</th>\n",
       "      <th>table_size_percentage</th>\n",
       "      <th>crown_height</th>\n",
       "      <th>pavilion_depth</th>\n",
       "      <th>crown_angle</th>\n",
       "      <th>pavilion_angle</th>\n",
       "    </tr>\n",
       "  </thead>\n",
       "  <tbody>\n",
       "    <tr>\n",
       "      <th>0</th>\n",
       "      <td>1.52</td>\n",
       "      <td>3</td>\n",
       "      <td>4</td>\n",
       "      <td>5</td>\n",
       "      <td>62.2</td>\n",
       "      <td>58.0</td>\n",
       "      <td>7.27</td>\n",
       "      <td>7.33</td>\n",
       "      <td>4.55</td>\n",
       "      <td>1.212327</td>\n",
       "      <td>390.609103</td>\n",
       "      <td>8.520548</td>\n",
       "      <td>794.520548</td>\n",
       "      <td>26.124</td>\n",
       "      <td>56.900219</td>\n",
       "      <td>0.841261</td>\n",
       "      <td>2.193322</td>\n",
       "    </tr>\n",
       "    <tr>\n",
       "      <th>1</th>\n",
       "      <td>2.03</td>\n",
       "      <td>2</td>\n",
       "      <td>0</td>\n",
       "      <td>3</td>\n",
       "      <td>62.0</td>\n",
       "      <td>58.0</td>\n",
       "      <td>8.06</td>\n",
       "      <td>8.12</td>\n",
       "      <td>5.05</td>\n",
       "      <td>1.652542</td>\n",
       "      <td>531.431264</td>\n",
       "      <td>7.663782</td>\n",
       "      <td>716.934487</td>\n",
       "      <td>26.040</td>\n",
       "      <td>57.248455</td>\n",
       "      <td>0.765059</td>\n",
       "      <td>2.112632</td>\n",
       "    </tr>\n",
       "    <tr>\n",
       "      <th>2</th>\n",
       "      <td>0.70</td>\n",
       "      <td>4</td>\n",
       "      <td>3</td>\n",
       "      <td>6</td>\n",
       "      <td>61.2</td>\n",
       "      <td>57.0</td>\n",
       "      <td>5.69</td>\n",
       "      <td>5.73</td>\n",
       "      <td>3.50</td>\n",
       "      <td>0.570565</td>\n",
       "      <td>186.819201</td>\n",
       "      <td>10.718039</td>\n",
       "      <td>998.248687</td>\n",
       "      <td>26.316</td>\n",
       "      <td>54.640560</td>\n",
       "      <td>1.045313</td>\n",
       "      <td>2.349732</td>\n",
       "    </tr>\n",
       "    <tr>\n",
       "      <th>3</th>\n",
       "      <td>0.32</td>\n",
       "      <td>4</td>\n",
       "      <td>3</td>\n",
       "      <td>6</td>\n",
       "      <td>61.6</td>\n",
       "      <td>56.0</td>\n",
       "      <td>4.38</td>\n",
       "      <td>4.41</td>\n",
       "      <td>2.71</td>\n",
       "      <td>0.261729</td>\n",
       "      <td>85.182678</td>\n",
       "      <td>14.015927</td>\n",
       "      <td>1274.175199</td>\n",
       "      <td>27.104</td>\n",
       "      <td>52.966189</td>\n",
       "      <td>1.313457</td>\n",
       "      <td>2.500655</td>\n",
       "    </tr>\n",
       "    <tr>\n",
       "      <th>4</th>\n",
       "      <td>1.70</td>\n",
       "      <td>3</td>\n",
       "      <td>3</td>\n",
       "      <td>5</td>\n",
       "      <td>62.6</td>\n",
       "      <td>59.0</td>\n",
       "      <td>7.65</td>\n",
       "      <td>7.61</td>\n",
       "      <td>4.77</td>\n",
       "      <td>1.388464</td>\n",
       "      <td>443.027565</td>\n",
       "      <td>8.204456</td>\n",
       "      <td>773.263434</td>\n",
       "      <td>25.666</td>\n",
       "      <td>57.464010</td>\n",
       "      <td>0.796069</td>\n",
       "      <td>2.165135</td>\n",
       "    </tr>\n",
       "    <tr>\n",
       "      <th>...</th>\n",
       "      <td>...</td>\n",
       "      <td>...</td>\n",
       "      <td>...</td>\n",
       "      <td>...</td>\n",
       "      <td>...</td>\n",
       "      <td>...</td>\n",
       "      <td>...</td>\n",
       "      <td>...</td>\n",
       "      <td>...</td>\n",
       "      <td>...</td>\n",
       "      <td>...</td>\n",
       "      <td>...</td>\n",
       "      <td>...</td>\n",
       "      <td>...</td>\n",
       "      <td>...</td>\n",
       "      <td>...</td>\n",
       "      <td>...</td>\n",
       "    </tr>\n",
       "    <tr>\n",
       "      <th>26962</th>\n",
       "      <td>1.11</td>\n",
       "      <td>3</td>\n",
       "      <td>3</td>\n",
       "      <td>4</td>\n",
       "      <td>62.3</td>\n",
       "      <td>58.0</td>\n",
       "      <td>6.61</td>\n",
       "      <td>6.52</td>\n",
       "      <td>4.09</td>\n",
       "      <td>0.881338</td>\n",
       "      <td>280.993744</td>\n",
       "      <td>9.489718</td>\n",
       "      <td>883.472963</td>\n",
       "      <td>26.166</td>\n",
       "      <td>56.387906</td>\n",
       "      <td>0.924429</td>\n",
       "      <td>2.269922</td>\n",
       "    </tr>\n",
       "    <tr>\n",
       "      <th>26963</th>\n",
       "      <td>0.33</td>\n",
       "      <td>4</td>\n",
       "      <td>2</td>\n",
       "      <td>9</td>\n",
       "      <td>61.9</td>\n",
       "      <td>55.0</td>\n",
       "      <td>4.44</td>\n",
       "      <td>4.42</td>\n",
       "      <td>2.74</td>\n",
       "      <td>0.268860</td>\n",
       "      <td>86.741616</td>\n",
       "      <td>13.972912</td>\n",
       "      <td>1241.534989</td>\n",
       "      <td>27.855</td>\n",
       "      <td>53.250767</td>\n",
       "      <td>1.332262</td>\n",
       "      <td>2.499114</td>\n",
       "    </tr>\n",
       "    <tr>\n",
       "      <th>26964</th>\n",
       "      <td>0.51</td>\n",
       "      <td>3</td>\n",
       "      <td>5</td>\n",
       "      <td>5</td>\n",
       "      <td>61.7</td>\n",
       "      <td>58.0</td>\n",
       "      <td>5.12</td>\n",
       "      <td>5.15</td>\n",
       "      <td>3.17</td>\n",
       "      <td>0.417933</td>\n",
       "      <td>135.795200</td>\n",
       "      <td>12.015579</td>\n",
       "      <td>1129.503408</td>\n",
       "      <td>25.914</td>\n",
       "      <td>54.286388</td>\n",
       "      <td>1.125544</td>\n",
       "      <td>2.418160</td>\n",
       "    </tr>\n",
       "    <tr>\n",
       "      <th>26965</th>\n",
       "      <td>0.27</td>\n",
       "      <td>2</td>\n",
       "      <td>4</td>\n",
       "      <td>7</td>\n",
       "      <td>61.8</td>\n",
       "      <td>56.0</td>\n",
       "      <td>4.19</td>\n",
       "      <td>4.20</td>\n",
       "      <td>2.60</td>\n",
       "      <td>0.228774</td>\n",
       "      <td>73.911600</td>\n",
       "      <td>14.731824</td>\n",
       "      <td>1334.922527</td>\n",
       "      <td>27.192</td>\n",
       "      <td>52.695733</td>\n",
       "      <td>1.361920</td>\n",
       "      <td>2.525033</td>\n",
       "    </tr>\n",
       "    <tr>\n",
       "      <th>26966</th>\n",
       "      <td>1.25</td>\n",
       "      <td>3</td>\n",
       "      <td>0</td>\n",
       "      <td>4</td>\n",
       "      <td>62.0</td>\n",
       "      <td>58.0</td>\n",
       "      <td>6.90</td>\n",
       "      <td>6.88</td>\n",
       "      <td>4.27</td>\n",
       "      <td>1.013527</td>\n",
       "      <td>326.607360</td>\n",
       "      <td>8.998549</td>\n",
       "      <td>841.799710</td>\n",
       "      <td>26.040</td>\n",
       "      <td>56.420900</td>\n",
       "      <td>0.882689</td>\n",
       "      <td>2.232828</td>\n",
       "    </tr>\n",
       "  </tbody>\n",
       "</table>\n",
       "<p>220534 rows × 17 columns</p>\n",
       "</div>"
      ],
      "text/plain": [
       "       carat  cut  color  clarity  depth  table     x     y     z  \\\n",
       "0       1.52    3      4        5   62.2   58.0  7.27  7.33  4.55   \n",
       "1       2.03    2      0        3   62.0   58.0  8.06  8.12  5.05   \n",
       "2       0.70    4      3        6   61.2   57.0  5.69  5.73  3.50   \n",
       "3       0.32    4      3        6   61.6   56.0  4.38  4.41  2.71   \n",
       "4       1.70    3      3        5   62.6   59.0  7.65  7.61  4.77   \n",
       "...      ...  ...    ...      ...    ...    ...   ...   ...   ...   \n",
       "26962   1.11    3      3        4   62.3   58.0  6.61  6.52  4.09   \n",
       "26963   0.33    4      2        9   61.9   55.0  4.44  4.42  2.74   \n",
       "26964   0.51    3      5        5   61.7   58.0  5.12  5.15  3.17   \n",
       "26965   0.27    2      4        7   61.8   56.0  4.19  4.20  2.60   \n",
       "26966   1.25    3      0        4   62.0   58.0  6.90  6.88  4.27   \n",
       "\n",
       "       carat_weight      volume  total_depth_percentage  \\\n",
       "0          1.212327  390.609103                8.520548   \n",
       "1          1.652542  531.431264                7.663782   \n",
       "2          0.570565  186.819201               10.718039   \n",
       "3          0.261729   85.182678               14.015927   \n",
       "4          1.388464  443.027565                8.204456   \n",
       "...             ...         ...                     ...   \n",
       "26962      0.881338  280.993744                9.489718   \n",
       "26963      0.268860   86.741616               13.972912   \n",
       "26964      0.417933  135.795200               12.015579   \n",
       "26965      0.228774   73.911600               14.731824   \n",
       "26966      1.013527  326.607360                8.998549   \n",
       "\n",
       "       table_size_percentage  crown_height  pavilion_depth  crown_angle  \\\n",
       "0                 794.520548        26.124       56.900219     0.841261   \n",
       "1                 716.934487        26.040       57.248455     0.765059   \n",
       "2                 998.248687        26.316       54.640560     1.045313   \n",
       "3                1274.175199        27.104       52.966189     1.313457   \n",
       "4                 773.263434        25.666       57.464010     0.796069   \n",
       "...                      ...           ...             ...          ...   \n",
       "26962             883.472963        26.166       56.387906     0.924429   \n",
       "26963            1241.534989        27.855       53.250767     1.332262   \n",
       "26964            1129.503408        25.914       54.286388     1.125544   \n",
       "26965            1334.922527        27.192       52.695733     1.361920   \n",
       "26966             841.799710        26.040       56.420900     0.882689   \n",
       "\n",
       "       pavilion_angle  \n",
       "0            2.193322  \n",
       "1            2.112632  \n",
       "2            2.349732  \n",
       "3            2.500655  \n",
       "4            2.165135  \n",
       "...               ...  \n",
       "26962        2.269922  \n",
       "26963        2.499114  \n",
       "26964        2.418160  \n",
       "26965        2.525033  \n",
       "26966        2.232828  \n",
       "\n",
       "[220534 rows x 17 columns]"
      ]
     },
     "execution_count": 37,
     "metadata": {},
     "output_type": "execute_result"
    }
   ],
   "source": [
    "X"
   ]
  },
  {
   "attachments": {},
   "cell_type": "markdown",
   "metadata": {},
   "source": [
    "# Model "
   ]
  },
  {
   "cell_type": "code",
   "execution_count": 39,
   "metadata": {},
   "outputs": [],
   "source": [
    "from xgboost import XGBRegressor\n",
    "from sklearn.model_selection import RandomizedSearchCV"
   ]
  },
  {
   "attachments": {},
   "cell_type": "markdown",
   "metadata": {},
   "source": [
    "Model parameters were obtained from a previous run using RandomizedSearchCV."
   ]
  },
  {
   "cell_type": "code",
   "execution_count": 40,
   "metadata": {},
   "outputs": [
    {
     "data": {
      "text/plain": [
       "XGBRegressor(base_score=0.5, booster='gbtree', callbacks=None,\n",
       "             colsample_bylevel=1, colsample_bynode=1, colsample_bytree=1,\n",
       "             early_stopping_rounds=None, enable_categorical=False,\n",
       "             eval_metric=None, gamma=0, gpu_id=-1, grow_policy='depthwise',\n",
       "             importance_type=None, interaction_constraints='',\n",
       "             learning_rate=0.03, max_bin=256, max_cat_to_onehot=4,\n",
       "             max_delta_step=0, max_depth=7, max_leaves=0, min_child_weight=4,\n",
       "             missing=nan, monotone_constraints='()', n_estimators=200,\n",
       "             n_jobs=-1, num_parallel_tree=1, predictor='auto', random_state=0,\n",
       "             reg_alpha=0, reg_lambda=1, ...)"
      ]
     },
     "execution_count": 40,
     "metadata": {},
     "output_type": "execute_result"
    }
   ],
   "source": [
    "model = XGBRegressor(n_jobs=-1, n_estimators=200, min_child_weight=4, max_depth=7, learning_rate=0.03)\n",
    "\n",
    "model.fit(X, y)"
   ]
  },
  {
   "attachments": {},
   "cell_type": "markdown",
   "metadata": {},
   "source": [
    "This is a first format for the hyperparameter tuning, but the computational time is very high."
   ]
  },
  {
   "cell_type": "code",
   "execution_count": null,
   "metadata": {},
   "outputs": [],
   "source": [
    "regr = RandomizedSearchCV(XGBRegressor(n_jobs=-1,random_state=42),{\n",
    "    'n_estimators':[200, 400, 600],\n",
    "    'learning_rate':[.001, .01, .1, .2, .3],\n",
    "    'max_depth': [1,2,3,4,5,6,7,8,9,10],\n",
    "    'min_child_weight':[1,2,3,4,5,6,7,8,9,10]\n",
    "}, cv=5, return_train_score=False, scoring='neg_root_mean_squared_error', n_iter=10) \n",
    "\n",
    "regr.fit(X,y)\n",
    "\n",
    "pd.DataFrame(regr.cv_results_).sort_values('rank_test_score').head(3)"
   ]
  },
  {
   "attachments": {},
   "cell_type": "markdown",
   "metadata": {},
   "source": [
    "By calling \"regr.best_params_\" it is possible to obtain the best parameters."
   ]
  },
  {
   "attachments": {},
   "cell_type": "markdown",
   "metadata": {},
   "source": [
    "# Submission"
   ]
  },
  {
   "cell_type": "code",
   "execution_count": 41,
   "metadata": {},
   "outputs": [],
   "source": [
    "submission = pd.read_csv('./playground-series-s3e8/sample_submission.csv')"
   ]
  },
  {
   "cell_type": "code",
   "execution_count": 42,
   "metadata": {},
   "outputs": [],
   "source": [
    "submission['price'] = model.predict(test)"
   ]
  },
  {
   "cell_type": "code",
   "execution_count": 43,
   "metadata": {},
   "outputs": [],
   "source": [
    "submission.to_csv('n_attempt.csv', index=None)"
   ]
  },
  {
   "attachments": {},
   "cell_type": "markdown",
   "metadata": {},
   "source": [
    "My final score on the test set is 577.89290, a huge improvement from the 590.36328.  \n",
    "\n",
    "In particular, this has allowed me to pass from the ~180 position to the current 54.  \n",
    "\n",
    "ChatGPT can be used as a tool to partially fill the missing domain knowledge."
   ]
  }
 ],
 "metadata": {
  "kernelspec": {
   "display_name": "Python 3",
   "language": "python",
   "name": "python3"
  },
  "language_info": {
   "codemirror_mode": {
    "name": "ipython",
    "version": 3
   },
   "file_extension": ".py",
   "mimetype": "text/x-python",
   "name": "python",
   "nbconvert_exporter": "python",
   "pygments_lexer": "ipython3",
   "version": "3.10.2"
  },
  "orig_nbformat": 4,
  "vscode": {
   "interpreter": {
    "hash": "d5ea41e4a4ff96221c207c65d84f76a2ad4a045e3a80bca3429d461f1852c7cd"
   }
  }
 },
 "nbformat": 4,
 "nbformat_minor": 2
}
